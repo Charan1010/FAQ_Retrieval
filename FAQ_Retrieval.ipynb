{
 "cells": [
  {
   "cell_type": "code",
   "execution_count": 1,
   "metadata": {},
   "outputs": [
    {
     "name": "stderr",
     "output_type": "stream",
     "text": [
      "Using TensorFlow backend.\n"
     ]
    }
   ],
   "source": [
    "#from keras.preprocessing.text import Tokenizer\n",
    "#from keras.preprocessing.sequence import pad_sequences\n",
    "from keras.models import Sequential\n",
    "from keras.layers import Dense, Flatten, LSTM, Conv1D, MaxPooling1D, Dropout, Activation\n",
    "from keras.layers.embeddings import Embedding\n",
    "\n",
    "## Plotly\n",
    "#import plotly.offline as py\n",
    "#import plotly.graph_objs as go\n",
    "#py.init_notebook_mode(connected=True)\n",
    "\n",
    "# Others\n",
    "import nltk\n",
    "import string\n",
    "import numpy as np\n",
    "import pandas as pd\n",
    "from nltk.corpus import stopwords\n",
    "\n",
    "#from sklearn.manifold import TSNE"
   ]
  },
  {
   "cell_type": "code",
   "execution_count": 2,
   "metadata": {},
   "outputs": [],
   "source": [
    "df=pd.read_csv(\"preprocessing_done.csv\")"
   ]
  },
  {
   "cell_type": "code",
   "execution_count": 3,
   "metadata": {},
   "outputs": [],
   "source": [
    "from sklearn.feature_extraction.text import TfidfVectorizer"
   ]
  },
  {
   "cell_type": "code",
   "execution_count": 5,
   "metadata": {},
   "outputs": [],
   "source": [
    "df.answer1=[\" \".join(i.split()[:100])  if len(i.split())>100 else  i for i in df.answer1]"
   ]
  },
  {
   "cell_type": "code",
   "execution_count": 6,
   "metadata": {},
   "outputs": [],
   "source": [
    "from gensim.test.utils import datapath, get_tmpfile\n",
    "from gensim.models import KeyedVectors\n",
    "glove_file = datapath('glove.6B.100d.txt')\n",
    "tmp_file = get_tmpfile(\"test_word2vec.txt\")\n",
    "from gensim.scripts.glove2word2vec import glove2word2vec\n",
    "glove2word2vec(glove_file, tmp_file)\n",
    "model = KeyedVectors.load_word2vec_format(tmp_file)"
   ]
  },
  {
   "cell_type": "code",
   "execution_count": 7,
   "metadata": {},
   "outputs": [],
   "source": [
    "modelx=model"
   ]
  },
  {
   "cell_type": "code",
   "execution_count": 8,
   "metadata": {},
   "outputs": [],
   "source": [
    "df.answer1=df.answer1.str.replace('dcu','')\n",
    "df.question1=df.question1.str.replace('dcu','')"
   ]
  },
  {
   "cell_type": "code",
   "execution_count": 9,
   "metadata": {},
   "outputs": [],
   "source": [
    "def matrix_generation(item):\n",
    "    target_vocab=item.split()\n",
    "    weights_matrix = np.zeros((100, 100))\n",
    "    for i, word in enumerate(target_vocab):\n",
    "        try: \n",
    "            weights_matrix[i] = modelx[word]\n",
    "        except KeyError:\n",
    "            weights_matrix[i] = np.random.normal(0.0, 1.0, (100,))\n",
    "    return weights_matrix"
   ]
  },
  {
   "cell_type": "code",
   "execution_count": 10,
   "metadata": {},
   "outputs": [],
   "source": [
    "question_matrices=df.question1.apply(matrix_generation)\n",
    "answer_matrices=df.answer1.apply(matrix_generation)"
   ]
  },
  {
   "cell_type": "code",
   "execution_count": 11,
   "metadata": {},
   "outputs": [],
   "source": [
    "def transformation(weight_matrices):\n",
    "    x=[i for i in weight_matrices ]\n",
    "    y=np.dstack(x)\n",
    "    y=np.rollaxis(y,-1)\n",
    "    y=y.reshape(518,1, 100, 100)\n",
    "    return y"
   ]
  },
  {
   "cell_type": "code",
   "execution_count": 12,
   "metadata": {},
   "outputs": [],
   "source": [
    "question_matrices=transformation(question_matrices)\n",
    "answer_matrices=transformation(answer_matrices)"
   ]
  },
  {
   "cell_type": "code",
   "execution_count": 13,
   "metadata": {},
   "outputs": [],
   "source": [
    "from keras.models import Sequential\n",
    "from keras.layers import Dense, Dropout,Flatten\n",
    "from keras.layers import Embedding\n",
    "from keras.layers import Conv1D, GlobalAveragePooling1D, GlobalMaxPooling1D\n",
    "\n",
    "seq_length = 100\n",
    "\n",
    "model = Sequential()\n",
    "model.add(Conv1D(64, 3, activation='relu', input_shape=(seq_length, 100)))\n",
    "model.add(Conv1D(64, 3, activation='relu'))\n",
    "model.add(MaxPooling1D(3))\n",
    "model.add(Conv1D(128, 3, activation='relu'))\n",
    "model.add(Conv1D(128, 3, activation='relu'))\n",
    "model.add(GlobalAveragePooling1D())\n",
    "model.add(Dropout(0.5))"
   ]
  },
  {
   "cell_type": "code",
   "execution_count": 14,
   "metadata": {},
   "outputs": [],
   "source": [
    "def vector_generator(weight_matrix):   \n",
    "    feature_vector = model.predict(weight_matrix)\n",
    "    return feature_vector"
   ]
  },
  {
   "cell_type": "code",
   "execution_count": 15,
   "metadata": {},
   "outputs": [],
   "source": [
    "df=df.assign(answer_vectors =[vector_generator(i) for i in answer_matrices ])"
   ]
  },
  {
   "cell_type": "code",
   "execution_count": 16,
   "metadata": {},
   "outputs": [],
   "source": [
    "df=df.assign(question_vectors =[vector_generator(i) for i in question_matrices ])"
   ]
  },
  {
   "cell_type": "code",
   "execution_count": 18,
   "metadata": {},
   "outputs": [],
   "source": [
    "from sklearn.metrics.pairwise import cosine_similarity\n",
    "df=df.assign(similarity=[cosine_similarity(df.question_vectors[i], df.answer_vectors[i]) for i in range(0,518)])"
   ]
  },
  {
   "cell_type": "code",
   "execution_count": 190,
   "metadata": {},
   "outputs": [
    {
     "data": {
      "text/html": [
       "<div>\n",
       "<style scoped>\n",
       "    .dataframe tbody tr th:only-of-type {\n",
       "        vertical-align: middle;\n",
       "    }\n",
       "\n",
       "    .dataframe tbody tr th {\n",
       "        vertical-align: top;\n",
       "    }\n",
       "\n",
       "    .dataframe thead th {\n",
       "        text-align: right;\n",
       "    }\n",
       "</style>\n",
       "<table border=\"1\" class=\"dataframe\">\n",
       "  <thead>\n",
       "    <tr style=\"text-align: right;\">\n",
       "      <th></th>\n",
       "      <th>Question</th>\n",
       "      <th>Answer</th>\n",
       "      <th>question1</th>\n",
       "      <th>answer1</th>\n",
       "      <th>answer_vectors</th>\n",
       "      <th>question_vectors</th>\n",
       "      <th>similarity</th>\n",
       "    </tr>\n",
       "  </thead>\n",
       "  <tbody>\n",
       "    <tr>\n",
       "      <th>0</th>\n",
       "      <td>What Is A Mortgage?</td>\n",
       "      <td>A mortgage is a loan that finances the purchas...</td>\n",
       "      <td>mortgage</td>\n",
       "      <td>mortgage loan finance purchase home property m...</td>\n",
       "      <td>[[0.013478862, 0.0, 0.1825618, 0.08606828, 0.1...</td>\n",
       "      <td>[[0.0, 0.0, 0.0005435275, 0.0006598317, 0.0, 4...</td>\n",
       "      <td>[[0.59051615]]</td>\n",
       "    </tr>\n",
       "    <tr>\n",
       "      <th>1</th>\n",
       "      <td>When Purchasing A Home In Ottawa, What Is The ...</td>\n",
       "      <td>Generally, a minimum down payment of 5% is req...</td>\n",
       "      <td>purchase home ottawa minimum payment i ll pay</td>\n",
       "      <td>generally minimum payment  require apply mortg...</td>\n",
       "      <td>[[0.0, 0.0, 0.12924471, 0.0498013, 0.069889374...</td>\n",
       "      <td>[[0.0, 0.0, 0.020613687, 0.011827095, 0.002554...</td>\n",
       "      <td>[[0.8409533]]</td>\n",
       "    </tr>\n",
       "  </tbody>\n",
       "</table>\n",
       "</div>"
      ],
      "text/plain": [
       "                                            Question  \\\n",
       "0                                What Is A Mortgage?   \n",
       "1  When Purchasing A Home In Ottawa, What Is The ...   \n",
       "\n",
       "                                              Answer  \\\n",
       "0  A mortgage is a loan that finances the purchas...   \n",
       "1  Generally, a minimum down payment of 5% is req...   \n",
       "\n",
       "                                       question1  \\\n",
       "0                                       mortgage   \n",
       "1  purchase home ottawa minimum payment i ll pay   \n",
       "\n",
       "                                             answer1  \\\n",
       "0  mortgage loan finance purchase home property m...   \n",
       "1  generally minimum payment  require apply mortg...   \n",
       "\n",
       "                                      answer_vectors  \\\n",
       "0  [[0.013478862, 0.0, 0.1825618, 0.08606828, 0.1...   \n",
       "1  [[0.0, 0.0, 0.12924471, 0.0498013, 0.069889374...   \n",
       "\n",
       "                                    question_vectors      similarity  \n",
       "0  [[0.0, 0.0, 0.0005435275, 0.0006598317, 0.0, 4...  [[0.59051615]]  \n",
       "1  [[0.0, 0.0, 0.020613687, 0.011827095, 0.002554...   [[0.8409533]]  "
      ]
     },
     "execution_count": 190,
     "metadata": {},
     "output_type": "execute_result"
    }
   ],
   "source": [
    "df.head(2)"
   ]
  },
  {
   "cell_type": "code",
   "execution_count": 209,
   "metadata": {},
   "outputs": [],
   "source": [
    "#inputx=\"reverse mortgage\" #question\n",
    "#inputx=\"standard variable rate mortgage\" #question\n",
    "inputx=\"mortgage\" #answer\n",
    "#inputx=\"provide personal data application secure\" #answer\n"
   ]
  },
  {
   "cell_type": "code",
   "execution_count": 210,
   "metadata": {},
   "outputs": [],
   "source": [
    "inputx=matrix_generation(inputx)\n",
    "inputx=inputx.reshape(1,100,100)\n",
    "inputx=vector_generator(inputx)\n",
    "x=np.array([cosine_similarity(inputx,df.question_vectors[i])+0.0*df.similarity[i]  for i in range(0,518)]).argsort(axis=0)[-20:]"
   ]
  },
  {
   "cell_type": "code",
   "execution_count": 211,
   "metadata": {},
   "outputs": [
    {
     "name": "stdout",
     "output_type": "stream",
     "text": [
      "What Is A Mortgage?\n",
      "What is a mortgage?\n",
      "What is a Mortgage?\n",
      "What is a mortgage?\n",
      "What is FHA?\n",
      "Who are your Lenders?\n",
      "What is my down payment?\n",
      "What is a discount mortgage?\n",
      "What is a commercial mortgage?\n",
      "What is Freddie Mac?\n",
      "What is an amortized mortgage?\n",
      "What is HUD?\n",
      "What is a repayment mortgage?\n",
      "How do I re-mortgage?\n",
      "What is the term of a loan?\n",
      "What is an offset mortgage?\n",
      "What is an Offset Mortgage?\n",
      "What is a Conventional Mortgage?\n",
      "What is a Conventional Mortgage?\n",
      "Is there a fee to submit my application online?\n"
     ]
    }
   ],
   "source": [
    "for i in np.fliplr([x])[0]:\n",
    "    print df.Question[i[0][0]]"
   ]
  },
  {
   "cell_type": "code",
   "execution_count": 202,
   "metadata": {},
   "outputs": [
    {
     "name": "stdout",
     "output_type": "stream",
     "text": [
      "Just like a fixed interest rate mortgage, a standard variable interest rate can be applied to any type of mortgage. The rate can fluctuate at the lender's discretion and will generally change as a reaction to economic conditions and the Bank of England's base rate. That means your monthly payments can go up or down.\\n\\nA standard variable interest rate will usually be higher than the typical offerings on the market when you start searching for mortgages. However, some mortgage lenders offer 'capped' standard variable rates. These ensure that the interest rate will not increase by more than a maximum increment, will not rise above more than a set level, or will only change once during a certain period time.\\n\\nEach bank usually has one standard variable rate which is universal to all of its customers. However, some lenders will offer discounts to the standard variable rate for some customers, typically those within the early years of the mortgage term when the affordability levels are typically lower.\n",
      "Refinancing is to take out a new mortgage with the original mortgage lenders (i.e. banks or financial lending firms). Therefore, there is only one mortgage lender involved in the transaction.   \\n\\nSecond Mortgage is different from refinancing, as it is borrowed from another mortgage lender on top of the original mortgage's remaining balance. If the mortgage borrower cannot pay off the mortgage and the property is auctioned, the first mortgage lender will be paid first. The second mortgage lender will only be paid if there is any money left. Because of this, the second mortgage generally has a higher interest rate.  \\n\\nAll banks provide remortgage, but not all banks provide second mortgage. Most second mortgages are provided by financial lending firms and property developers.\n",
      "Once you get a reverse mortgage, the lender can only foreclose on your home if you do not pay your homeowner’s insurance or real estate taxes. Keep in mind that you do not have to make any payments on a reverse mortgage as long as you are living in the home, so there is a low risk of default. As long as the home is your primary residence you never have to make a payment on your reverse mortgage.\n",
      "Higher deposits, which are often 20% to 40% of the property value, will provide access to the best rates available on the market. All applications are subject to underwriting, lender criteria and property assessment as well as other checks.\n",
      "Mortgages are complex and there are many different types of home loans available from a large number of competitive lenders. A Whiting Financial Services Mortgage broker can help you choose a home loan that is suitable and appropriate to your personal circumstances. Whiting Financial Services Broker saves you time. They do the leg work for you. They are committed, through membership of the NZMBA, to work in your interests.\\n\\n\\n[top](#top)\n",
      "This will depend on the term of the mortgage that you agree to. The average mortgage term is about 25 years; however, it can typically range anywhere between 10 to 30 years. The shorter the term, the higher the monthly payments will be.\\n\\nHowever, shorter terms also mean much less money goes towards the interest portion of the loan, which can translate into significant savings. Of course, the term you opt for will depend on how comfortable you’ll be at making mortgage payments. If you can realistically only afford a smaller amount, then a longer term may be best.\n",
      "A mortgage broker covers a broad basis, linking buyers with appropriate lenders, counseling borrowers, and even processing loans.\\n\\n\\nA lender is the institution or agency that will actually loan the money.\\n\\n\\nA loan officer is an employee of either a lender or a mortgage broker, generally finding borrowers, counseling, taking applications, and often, being involved in the loan processing.\n",
      "The first step is to complete our [Online Enquiry Form](https://www.bestfrenchmortgage.com/french-mortgage-quote/).\\n\\n\\nYou will be able to arrange everything over the Internet and/or over the telephone – always in English.\\n\\n\\nThe funds will be sent by the lender direct to your Notaire.\\n\\n\\nThey will be available for the completion of your purchase on the date of the acte.\n",
      "There are several benefits to getting a Pre-Approval before you start searching for your next home.\\n\\n*   Your mortgage will be secured for 120 days. Even if rates go up, yours won’t.\\n*   You’ll know what you can afford, helping to narrow down the search process.\\n*   Pre-approval will make you look like a more serious buyer, helping you find a good realtor and can give you negotiating power with the home seller.\\n*   A mortgage pre-approval will make the final closing faster since you already have most of the work completed.\n",
      "This will depend on the terms of your mortgage with your lender. Typically, lenders will allow extra payments to be made to shorten the life of the mortgage. There are also options to put down a lump sum once a year to put towards the principal of the mortgage, though the limit of this amount will depend on the lender and your specific mortgage contract. Some lenders charge a penalty fee for early mortgage repayment, so it’s important to check first before making a larger payment.\n",
      "A mortgage broker is the middleman who helps match borrowers with lenders based on corresponding needs and standards. Mortgage brokers arrange more the 80% of all transactions between borrowers and lenders, yet mortgage bankers actually finance and distribute the largest portion of home loans compared to all other lenders.\n",
      "Depending on the circumstances surrounding your bankruptcy, generally some lenders would consider providing mortgage financing. If you have been previously discharged from bankruptcy, the best way to determine whether or not you qualify at this time is to fill out an application and have one of the Balance Mortgages team members discuss your situation. Balance Mortgages has many lenders we can approach based on your circumstances.\n",
      "Either a three-month interest penalty or interest differential penalty will apply if you close out your mortgage prior to the maturity date of the term. The greater of the two applies. Interest differential is charged when interest rates have decreased relative to your rate, whereas three-month interest charges are typically charged when interest rates have increased relative to your rate.\n",
      "The Interest Rate is the interest you pay each month on the unpaid balance of your mortgage. An Annual Percentage Rate (APR) is the interest rate plus any extra fees involved in getting a mortgage. This can include the origination fee, points, private mortgage insurance, underwriting and processing fees. The APR is intended aid buyers as they shop and compare mortgages.\n",
      "Some loans will do 100% financing. Another similar loan option is called a piggy-back loan, where you get approved for the first and second mortgage at the same time. FHA loans require only 3% down. No matter which of these types of loans you obtain, the payment will be larger, your interest rate will probably be higher, and you will be required to buy private mortgage insurance (PMI).\n",
      "Interest rates are the lowest they have been in decades. In some cases, mortgage lenders are offering interest rates in the 3% range. If you are looking to purchase a property, or if you already own a home, there are several [tricks home owners can use to lower mortgage rates](http://www.anmtg.com/).\n",
      "You may be required to pay an extension fee or other charges.\n",
      "If you want to boost the chance of your mortgage application being accepted you should prepare well in advance. As outgoings as well as income are all part of the mix, you should do all you can to reduce and ideally clear any outstanding credit card, car finance or loan debts. Take a look at our [make sure you’re prepared](http://www.blackstonefs.co.uk/mortgage-process/) and [twelve tips for mortgage success](http://www.blackstonefs.co.uk/twelve-tips-for-mortgage-success/) section. [Speak to an adviser at Blackstone](http://www.blackstonefs.co.uk/contact-us/)for advice and the best deals for your circumstances.\n",
      "Your time is precious. Having to shop your own mortgage from bank to bank takes not only significant time, but can be very daunting given the wide variety of products. As well, most people don’t know the right questions to ask.\\n\\nUpdated daily, Balance Mortgages sees the lowest interest rates and  \\n\\nbest mortgage products offered by financial institutions across Canada. We use this knowledge to get you the best mortgage product available.\\n\\nBecause Balance Mortgages is not associated with any one financial institution, we’re not limited in the products we can offer you. Our job is to seek out the best lender package for your specific situation, whether it’s with a Chartered Bank, Trust Company, Credit Union, or Private Funds.\\n\\nChoosing the wrong mortgage can cost you thousands of extra dollars. Balance Mortgages has the knowledge, experience and resources to shop the mortgage market for the best rates and terms.\n",
      "Yes. In fact, this is a common use of a mortgage loan. Many of our customers obtain a mortgage to [consolidate credit card debt](https://brokersforlife.ca/customized-loans/debt-consolidation-loan), renovate their kitchen, or invest.\n"
     ]
    }
   ],
   "source": [
    "for i in np.fliplr([x])[0]:\n",
    "    print df.Answer[i[0][0]]"
   ]
  },
  {
   "cell_type": "code",
   "execution_count": null,
   "metadata": {},
   "outputs": [],
   "source": []
  }
 ],
 "metadata": {
  "kernelspec": {
   "display_name": "Python 2",
   "language": "python",
   "name": "python2"
  },
  "language_info": {
   "codemirror_mode": {
    "name": "ipython",
    "version": 2
   },
   "file_extension": ".py",
   "mimetype": "text/x-python",
   "name": "python",
   "nbconvert_exporter": "python",
   "pygments_lexer": "ipython2",
   "version": "2.7.15rc1"
  }
 },
 "nbformat": 4,
 "nbformat_minor": 2
}
